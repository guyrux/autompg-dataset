{
 "cells": [
  {
   "cell_type": "markdown",
   "metadata": {},
   "source": [
    "# 1_business_data_understanding_suto"
   ]
  },
  {
   "cell_type": "code",
   "execution_count": 1,
   "metadata": {
    "ExecuteTime": {
     "end_time": "2020-10-10T00:09:53.924845Z",
     "start_time": "2020-10-10T00:09:53.910849Z"
    }
   },
   "outputs": [],
   "source": [
    "import os\n",
    "\n",
    "import pandas as pd\n",
    "import numpy as np\n",
    "\n",
    "import matplotlib.pyplot as plt\n",
    "import seaborn as sns\n",
    "import plotly.express as px\n",
    "\n",
    "from sklearn.linear_model import LinearRegression\n",
    "\n",
    "from sklearn.model_selection import (cross_val_score, RepeatedStratifiedKFold,\n",
    "                                     RandomizedSearchCV, GridSearchCV, train_test_split)\n",
    "\n",
    "from sklearn.metrics import mean_absolute_error, mean_squared_error\n",
    "\n",
    "from pandas_profiling import ProfileReport\n",
    "\n",
    "path_data = \"../data/raw/\"\n",
    "path_interim_data = \"../data/interim/\"\n",
    "path_outputs = \"../outputs/\"\n",
    "\n",
    "# Parâmetros estéticos dos gráficos:\n",
    "set_palette = \"Paired\"\n",
    "axes_style = \"ticks\"\n",
    "\n",
    "linha = 50*\"-\""
   ]
  },
  {
   "cell_type": "code",
   "execution_count": 2,
   "metadata": {
    "ExecuteTime": {
     "end_time": "2020-10-10T00:09:55.401043Z",
     "start_time": "2020-10-10T00:09:55.307042Z"
    }
   },
   "outputs": [
    {
     "name": "stdout",
     "output_type": "stream",
     "text": [
      "Dimensões do dataset: (398, 9)\n"
     ]
    },
    {
     "data": {
      "text/html": [
       "<div>\n",
       "<style scoped>\n",
       "    .dataframe tbody tr th:only-of-type {\n",
       "        vertical-align: middle;\n",
       "    }\n",
       "\n",
       "    .dataframe tbody tr th {\n",
       "        vertical-align: top;\n",
       "    }\n",
       "\n",
       "    .dataframe thead th {\n",
       "        text-align: right;\n",
       "    }\n",
       "</style>\n",
       "<table border=\"1\" class=\"dataframe\">\n",
       "  <thead>\n",
       "    <tr style=\"text-align: right;\">\n",
       "      <th></th>\n",
       "      <th>mpg</th>\n",
       "      <th>cylinders</th>\n",
       "      <th>displacement</th>\n",
       "      <th>horsepower</th>\n",
       "      <th>weight</th>\n",
       "      <th>acceleration</th>\n",
       "      <th>model year</th>\n",
       "      <th>origin</th>\n",
       "      <th>car name</th>\n",
       "    </tr>\n",
       "  </thead>\n",
       "  <tbody>\n",
       "    <tr>\n",
       "      <th>0</th>\n",
       "      <td>18.0</td>\n",
       "      <td>8</td>\n",
       "      <td>307.0</td>\n",
       "      <td>130</td>\n",
       "      <td>3504</td>\n",
       "      <td>12.0</td>\n",
       "      <td>70</td>\n",
       "      <td>1</td>\n",
       "      <td>chevrolet chevelle malibu</td>\n",
       "    </tr>\n",
       "    <tr>\n",
       "      <th>1</th>\n",
       "      <td>15.0</td>\n",
       "      <td>8</td>\n",
       "      <td>350.0</td>\n",
       "      <td>165</td>\n",
       "      <td>3693</td>\n",
       "      <td>11.5</td>\n",
       "      <td>70</td>\n",
       "      <td>1</td>\n",
       "      <td>buick skylark 320</td>\n",
       "    </tr>\n",
       "    <tr>\n",
       "      <th>2</th>\n",
       "      <td>18.0</td>\n",
       "      <td>8</td>\n",
       "      <td>318.0</td>\n",
       "      <td>150</td>\n",
       "      <td>3436</td>\n",
       "      <td>11.0</td>\n",
       "      <td>70</td>\n",
       "      <td>1</td>\n",
       "      <td>plymouth satellite</td>\n",
       "    </tr>\n",
       "    <tr>\n",
       "      <th>3</th>\n",
       "      <td>16.0</td>\n",
       "      <td>8</td>\n",
       "      <td>304.0</td>\n",
       "      <td>150</td>\n",
       "      <td>3433</td>\n",
       "      <td>12.0</td>\n",
       "      <td>70</td>\n",
       "      <td>1</td>\n",
       "      <td>amc rebel sst</td>\n",
       "    </tr>\n",
       "    <tr>\n",
       "      <th>4</th>\n",
       "      <td>17.0</td>\n",
       "      <td>8</td>\n",
       "      <td>302.0</td>\n",
       "      <td>140</td>\n",
       "      <td>3449</td>\n",
       "      <td>10.5</td>\n",
       "      <td>70</td>\n",
       "      <td>1</td>\n",
       "      <td>ford torino</td>\n",
       "    </tr>\n",
       "  </tbody>\n",
       "</table>\n",
       "</div>"
      ],
      "text/plain": [
       "    mpg  cylinders  displacement horsepower  weight  acceleration  model year  \\\n",
       "0  18.0          8         307.0        130    3504          12.0          70   \n",
       "1  15.0          8         350.0        165    3693          11.5          70   \n",
       "2  18.0          8         318.0        150    3436          11.0          70   \n",
       "3  16.0          8         304.0        150    3433          12.0          70   \n",
       "4  17.0          8         302.0        140    3449          10.5          70   \n",
       "\n",
       "   origin                   car name  \n",
       "0       1  chevrolet chevelle malibu  \n",
       "1       1          buick skylark 320  \n",
       "2       1         plymouth satellite  \n",
       "3       1              amc rebel sst  \n",
       "4       1                ford torino  "
      ]
     },
     "execution_count": 2,
     "metadata": {},
     "output_type": "execute_result"
    }
   ],
   "source": [
    "df_data = pd.read_csv(path_data+\"auto-mpg.csv\")\n",
    "\n",
    "print(f\"Dimensões do dataset: {df_data.shape}\")\n",
    "\n",
    "df_data.head()"
   ]
  },
  {
   "cell_type": "markdown",
   "metadata": {},
   "source": [
    "## Entendendo cada fator\n",
    "\n",
    "Vamos pegar cada fator e simplesmente plotar para verificar se \"faz sentido\".\n",
    "\n",
    "### Limpeza de dados\n",
    "\n",
    "Quando fomos verificar a \"natureza\"/tipo de cada fator, vimos que o o fator **horsepower** estava como *object*. Analisando um pouco melhor, vimos que havia a string *\"?\"* em 6 registros/observações. Para facilitar, seguiremos com a substituição das strings *\"?\"* pela média da amostra que temos. Posteriormente, usaremos técnicas melhores, como por exemplo **K-vizinhos mais próximos**."
   ]
  },
  {
   "cell_type": "code",
   "execution_count": 3,
   "metadata": {
    "ExecuteTime": {
     "end_time": "2020-10-10T00:09:59.434066Z",
     "start_time": "2020-10-10T00:09:59.397071Z"
    }
   },
   "outputs": [
    {
     "data": {
      "text/html": [
       "<div>\n",
       "<style scoped>\n",
       "    .dataframe tbody tr th:only-of-type {\n",
       "        vertical-align: middle;\n",
       "    }\n",
       "\n",
       "    .dataframe tbody tr th {\n",
       "        vertical-align: top;\n",
       "    }\n",
       "\n",
       "    .dataframe thead th {\n",
       "        text-align: right;\n",
       "    }\n",
       "</style>\n",
       "<table border=\"1\" class=\"dataframe\">\n",
       "  <thead>\n",
       "    <tr style=\"text-align: right;\">\n",
       "      <th></th>\n",
       "      <th>mpg</th>\n",
       "      <th>cylinders</th>\n",
       "      <th>displacement</th>\n",
       "      <th>horsepower</th>\n",
       "      <th>weight</th>\n",
       "      <th>acceleration</th>\n",
       "      <th>model year</th>\n",
       "      <th>origin</th>\n",
       "      <th>car name</th>\n",
       "    </tr>\n",
       "  </thead>\n",
       "  <tbody>\n",
       "    <tr>\n",
       "      <th>32</th>\n",
       "      <td>25.0</td>\n",
       "      <td>4</td>\n",
       "      <td>98.0</td>\n",
       "      <td>?</td>\n",
       "      <td>2046</td>\n",
       "      <td>19.0</td>\n",
       "      <td>71</td>\n",
       "      <td>1</td>\n",
       "      <td>ford pinto</td>\n",
       "    </tr>\n",
       "    <tr>\n",
       "      <th>126</th>\n",
       "      <td>21.0</td>\n",
       "      <td>6</td>\n",
       "      <td>200.0</td>\n",
       "      <td>?</td>\n",
       "      <td>2875</td>\n",
       "      <td>17.0</td>\n",
       "      <td>74</td>\n",
       "      <td>1</td>\n",
       "      <td>ford maverick</td>\n",
       "    </tr>\n",
       "    <tr>\n",
       "      <th>330</th>\n",
       "      <td>40.9</td>\n",
       "      <td>4</td>\n",
       "      <td>85.0</td>\n",
       "      <td>?</td>\n",
       "      <td>1835</td>\n",
       "      <td>17.3</td>\n",
       "      <td>80</td>\n",
       "      <td>2</td>\n",
       "      <td>renault lecar deluxe</td>\n",
       "    </tr>\n",
       "    <tr>\n",
       "      <th>336</th>\n",
       "      <td>23.6</td>\n",
       "      <td>4</td>\n",
       "      <td>140.0</td>\n",
       "      <td>?</td>\n",
       "      <td>2905</td>\n",
       "      <td>14.3</td>\n",
       "      <td>80</td>\n",
       "      <td>1</td>\n",
       "      <td>ford mustang cobra</td>\n",
       "    </tr>\n",
       "    <tr>\n",
       "      <th>354</th>\n",
       "      <td>34.5</td>\n",
       "      <td>4</td>\n",
       "      <td>100.0</td>\n",
       "      <td>?</td>\n",
       "      <td>2320</td>\n",
       "      <td>15.8</td>\n",
       "      <td>81</td>\n",
       "      <td>2</td>\n",
       "      <td>renault 18i</td>\n",
       "    </tr>\n",
       "    <tr>\n",
       "      <th>374</th>\n",
       "      <td>23.0</td>\n",
       "      <td>4</td>\n",
       "      <td>151.0</td>\n",
       "      <td>?</td>\n",
       "      <td>3035</td>\n",
       "      <td>20.5</td>\n",
       "      <td>82</td>\n",
       "      <td>1</td>\n",
       "      <td>amc concord dl</td>\n",
       "    </tr>\n",
       "  </tbody>\n",
       "</table>\n",
       "</div>"
      ],
      "text/plain": [
       "      mpg  cylinders  displacement horsepower  weight  acceleration  \\\n",
       "32   25.0          4          98.0          ?    2046          19.0   \n",
       "126  21.0          6         200.0          ?    2875          17.0   \n",
       "330  40.9          4          85.0          ?    1835          17.3   \n",
       "336  23.6          4         140.0          ?    2905          14.3   \n",
       "354  34.5          4         100.0          ?    2320          15.8   \n",
       "374  23.0          4         151.0          ?    3035          20.5   \n",
       "\n",
       "     model year  origin              car name  \n",
       "32           71       1            ford pinto  \n",
       "126          74       1         ford maverick  \n",
       "330          80       2  renault lecar deluxe  \n",
       "336          80       1    ford mustang cobra  \n",
       "354          81       2           renault 18i  \n",
       "374          82       1        amc concord dl  "
      ]
     },
     "execution_count": 3,
     "metadata": {},
     "output_type": "execute_result"
    }
   ],
   "source": [
    "df_data.loc[~df_data[\"horsepower\"].str.isnumeric()]"
   ]
  },
  {
   "cell_type": "code",
   "execution_count": 4,
   "metadata": {
    "ExecuteTime": {
     "end_time": "2020-10-10T00:09:59.806948Z",
     "start_time": "2020-10-10T00:09:59.773954Z"
    }
   },
   "outputs": [
    {
     "name": "stdout",
     "output_type": "stream",
     "text": [
      "A média dos registros/observações horsepower exluindo os registros com \"?\" é 104.\n"
     ]
    }
   ],
   "source": [
    "df_data_limpo = df_data.copy()\n",
    "\n",
    "media_horsepower = df_data_limpo.loc[df_data[\"horsepower\"].str.isnumeric(), \"horsepower\"]\n",
    "media_horsepower = media_horsepower.astype(\"float64\")\n",
    "media_horsepower = int(media_horsepower.mean())\n",
    "\n",
    "print(f\"\"\"A média dos registros/observações horsepower exluindo os registros com \"?\" é {media_horsepower}.\"\"\")\n",
    "\n",
    "# Substituição dos valores \"?\" pela média:\n",
    "df_data_limpo[\"horsepower\"].replace(to_replace=\"?\", value=media_horsepower, inplace=True)\n",
    "df_data_limpo[\"horsepower\"] = df_data_limpo[\"horsepower\"].astype(\"float64\")"
   ]
  },
  {
   "cell_type": "markdown",
   "metadata": {},
   "source": [
    "### Verificando a distribuição dos fatores contínuos:\n",
    "- **Resposta:** mpg\n",
    "- **Fatores**:\n",
    " - displacement\n",
    " - horsepower\n",
    " - weight\n",
    " - acceleration"
   ]
  },
  {
   "cell_type": "code",
   "execution_count": 5,
   "metadata": {
    "ExecuteTime": {
     "end_time": "2020-10-10T00:10:00.785004Z",
     "start_time": "2020-10-10T00:10:00.754001Z"
    }
   },
   "outputs": [
    {
     "data": {
      "text/plain": [
       "['acceleration', 'displacement', 'horsepower', 'mpg']"
      ]
     },
     "execution_count": 5,
     "metadata": {},
     "output_type": "execute_result"
    }
   ],
   "source": [
    "lst_continuas = df_data_limpo.select_dtypes(include=[float, \"float32\", \"float64\"]).columns\n",
    "lst_continuas = sorted(lst_continuas)\n",
    "lst_continuas"
   ]
  },
  {
   "cell_type": "code",
   "execution_count": 6,
   "metadata": {
    "ExecuteTime": {
     "end_time": "2020-10-10T00:10:03.049576Z",
     "start_time": "2020-10-10T00:10:01.179043Z"
    }
   },
   "outputs": [
    {
     "data": {
      "image/png": "[encoded data removed]",
      "text/plain": [
       "<Figure size 360x144 with 1 Axes>"
      ]
     },
     "metadata": {
      "needs_background": "light"
     },
     "output_type": "display_data"
    },
    {
     "data": {
      "image/png": "[encoded data removed]",
      "text/plain": [
       "<Figure size 360x144 with 1 Axes>"
      ]
     },
     "metadata": {
      "needs_background": "light"
     },
     "output_type": "display_data"
    },
    {
     "data": {
      "image/png": "[encoded data removed]",
      "text/plain": [
       "<Figure size 360x144 with 1 Axes>"
      ]
     },
     "metadata": {
      "needs_background": "light"
     },
     "output_type": "display_data"
    },
    {
     "data": {
      "image/png": "[encoded data removed]",
      "text/plain": [
       "<Figure size 360x144 with 1 Axes>"
      ]
     },
     "metadata": {
      "needs_background": "light"
     },
     "output_type": "display_data"
    }
   ],
   "source": [
    "sns.set_palette(set_palette)\n",
    "sns.axes_style(axes_style)\n",
    "\n",
    "for i, feature in enumerate(df_data_limpo[lst_continuas].columns):\n",
    "#     x = pd.Series(df_data_limpo.loc[:, feature])\n",
    "    ax = sns.displot(df_data_limpo.loc[:, feature], kde=True)\n",
    "    ax.set(title=\"Distribuição de \"+feature)\n",
    "    ax.fig.set_size_inches(5,2)"
   ]
  },
  {
   "cell_type": "code",
   "execution_count": 7,
   "metadata": {
    "ExecuteTime": {
     "end_time": "2020-10-10T00:10:13.602367Z",
     "start_time": "2020-10-10T00:10:13.252353Z"
    }
   },
   "outputs": [
    {
     "data": {
      "image/png": "[encoded data removed]",
      "text/plain": [
       "<Figure size 432x288 with 2 Axes>"
      ]
     },
     "metadata": {
      "needs_background": "light"
     },
     "output_type": "display_data"
    }
   ],
   "source": [
    "# Pegando somente os atributos/fatores/variáveis de entrada contínuas.\n",
    "lst_continuas = df_data_limpo.select_dtypes(include=[\"float\", \"float32\", \"float64\"]).columns\n",
    "\n",
    "# Calculando a matriz de correlação entre os fatores, incluindo a resposta (\"mpg\").\n",
    "correlation_matrix = abs(df_data_limpo[sorted(lst_continuas)].corr())\n",
    "\n",
    "mask = np.triu(np.ones_like(correlation_matrix, dtype=np.bool))\n",
    "\n",
    "sns.set_palette(set_palette)\n",
    "sns.axes_style(axes_style)\n",
    "\n",
    "ax = sns.heatmap(correlation_matrix, vmin=0, vmax=1, mask=mask,annot=True)\n",
    "ax.set_title('Mapa de Correlação', fontdict={'fontsize':14}, pad=12);"
   ]
  },
  {
   "cell_type": "code",
   "execution_count": 8,
   "metadata": {
    "ExecuteTime": {
     "end_time": "2020-10-10T00:10:18.920351Z",
     "start_time": "2020-10-10T00:10:13.607354Z"
    }
   },
   "outputs": [
    {
     "data": {
      "image/png": "[encoded data removed]",
      "text/plain": [
       "<Figure size 1080x720 with 14 Axes>"
      ]
     },
     "metadata": {
      "needs_background": "light"
     },
     "output_type": "display_data"
    }
   ],
   "source": [
    "sns.set_palette(set_palette)\n",
    "sns.axes_style(axes_style)\n",
    "\n",
    "ax = sns.pairplot(df_data_limpo[sorted(lst_continuas)], plot_kws={'alpha':0.9}, corner=True);\n",
    "\n",
    "ax.fig.set_size_inches(15,10)"
   ]
  },
  {
   "cell_type": "markdown",
   "metadata": {},
   "source": [
    "### Verificando a distribuição dos fatores discretos:\n",
    "- **Fatores**:\n",
    " - 'cylinders',\n",
    " - 'model year',\n",
    " - 'origin',\n",
    " - 'car name'"
   ]
  },
  {
   "cell_type": "code",
   "execution_count": 9,
   "metadata": {
    "ExecuteTime": {
     "end_time": "2020-10-10T00:10:19.605354Z",
     "start_time": "2020-10-10T00:10:18.925352Z"
    }
   },
   "outputs": [
    {
     "data": {
      "image/png": "[encoded data removed]",
      "text/plain": [
       "<Figure size 1440x360 with 3 Axes>"
      ]
     },
     "metadata": {
      "needs_background": "light"
     },
     "output_type": "display_data"
    }
   ],
   "source": [
    "lst_categoricos = ['cylinders', 'model year', 'origin']\n",
    "\n",
    "sns.set_palette(set_palette)\n",
    "sns.axes_style(axes_style)\n",
    "\n",
    "fig, axs = plt.subplots(ncols=3, figsize=(20,5))\n",
    "\n",
    "for i, feature in enumerate(df_data_limpo[lst_categoricos].columns):\n",
    "    ax = sns.countplot(x=feature, data=df_data_limpo, ax=axs[i])\n",
    "    ax.set(ylabel=\"Contagem [un]\")"
   ]
  },
  {
   "cell_type": "markdown",
   "metadata": {},
   "source": [
    "#### Investigando a variável 'car name'"
   ]
  },
  {
   "cell_type": "code",
   "execution_count": 10,
   "metadata": {
    "ExecuteTime": {
     "end_time": "2020-10-10T00:10:19.636355Z",
     "start_time": "2020-10-10T00:10:19.608362Z"
    }
   },
   "outputs": [
    {
     "data": {
      "text/plain": [
       "ford pinto             6\n",
       "ford maverick          5\n",
       "toyota corolla         5\n",
       "amc matador            5\n",
       "chevrolet chevette     4\n",
       "                      ..\n",
       "mazda glc custom       1\n",
       "datsun 310 gx          1\n",
       "ford mustang cobra     1\n",
       "pontiac safari (sw)    1\n",
       "dodge aspen 6          1\n",
       "Name: car name, Length: 305, dtype: int64"
      ]
     },
     "execution_count": 10,
     "metadata": {},
     "output_type": "execute_result"
    }
   ],
   "source": [
    "df_data_limpo[\"car name\"].value_counts()"
   ]
  },
  {
   "cell_type": "code",
   "execution_count": 11,
   "metadata": {
    "ExecuteTime": {
     "end_time": "2020-10-10T00:10:19.713349Z",
     "start_time": "2020-10-10T00:10:19.640355Z"
    }
   },
   "outputs": [
    {
     "name": "stdout",
     "output_type": "stream",
     "text": [
      "Existem 56 'car names' que se repetem.\n",
      "Essas repetições correspondem a 149 registros no df_data (37.4% do total).\n",
      "--------------------------------------------------\n"
     ]
    },
    {
     "data": {
      "text/html": [
       "<div>\n",
       "<style scoped>\n",
       "    .dataframe tbody tr th:only-of-type {\n",
       "        vertical-align: middle;\n",
       "    }\n",
       "\n",
       "    .dataframe tbody tr th {\n",
       "        vertical-align: top;\n",
       "    }\n",
       "\n",
       "    .dataframe thead th {\n",
       "        text-align: right;\n",
       "    }\n",
       "</style>\n",
       "<table border=\"1\" class=\"dataframe\">\n",
       "  <thead>\n",
       "    <tr style=\"text-align: right;\">\n",
       "      <th></th>\n",
       "      <th>mpg</th>\n",
       "      <th>cylinders</th>\n",
       "      <th>displacement</th>\n",
       "      <th>horsepower</th>\n",
       "      <th>weight</th>\n",
       "      <th>acceleration</th>\n",
       "      <th>model year</th>\n",
       "      <th>origin</th>\n",
       "      <th>car name</th>\n",
       "    </tr>\n",
       "  </thead>\n",
       "  <tbody>\n",
       "    <tr>\n",
       "      <th>257</th>\n",
       "      <td>19.4</td>\n",
       "      <td>6</td>\n",
       "      <td>232.0</td>\n",
       "      <td>90.0</td>\n",
       "      <td>3210</td>\n",
       "      <td>17.2</td>\n",
       "      <td>78</td>\n",
       "      <td>1</td>\n",
       "      <td>amc concord</td>\n",
       "    </tr>\n",
       "    <tr>\n",
       "      <th>315</th>\n",
       "      <td>24.3</td>\n",
       "      <td>4</td>\n",
       "      <td>151.0</td>\n",
       "      <td>90.0</td>\n",
       "      <td>3003</td>\n",
       "      <td>20.1</td>\n",
       "      <td>80</td>\n",
       "      <td>1</td>\n",
       "      <td>amc concord</td>\n",
       "    </tr>\n",
       "    <tr>\n",
       "      <th>24</th>\n",
       "      <td>21.0</td>\n",
       "      <td>6</td>\n",
       "      <td>199.0</td>\n",
       "      <td>90.0</td>\n",
       "      <td>2648</td>\n",
       "      <td>15.0</td>\n",
       "      <td>70</td>\n",
       "      <td>1</td>\n",
       "      <td>amc gremlin</td>\n",
       "    </tr>\n",
       "    <tr>\n",
       "      <th>33</th>\n",
       "      <td>19.0</td>\n",
       "      <td>6</td>\n",
       "      <td>232.0</td>\n",
       "      <td>100.0</td>\n",
       "      <td>2634</td>\n",
       "      <td>13.0</td>\n",
       "      <td>71</td>\n",
       "      <td>1</td>\n",
       "      <td>amc gremlin</td>\n",
       "    </tr>\n",
       "    <tr>\n",
       "      <th>107</th>\n",
       "      <td>18.0</td>\n",
       "      <td>6</td>\n",
       "      <td>232.0</td>\n",
       "      <td>100.0</td>\n",
       "      <td>2789</td>\n",
       "      <td>15.0</td>\n",
       "      <td>73</td>\n",
       "      <td>1</td>\n",
       "      <td>amc gremlin</td>\n",
       "    </tr>\n",
       "    <tr>\n",
       "      <th>...</th>\n",
       "      <td>...</td>\n",
       "      <td>...</td>\n",
       "      <td>...</td>\n",
       "      <td>...</td>\n",
       "      <td>...</td>\n",
       "      <td>...</td>\n",
       "      <td>...</td>\n",
       "      <td>...</td>\n",
       "      <td>...</td>\n",
       "    </tr>\n",
       "    <tr>\n",
       "      <th>240</th>\n",
       "      <td>30.5</td>\n",
       "      <td>4</td>\n",
       "      <td>97.0</td>\n",
       "      <td>78.0</td>\n",
       "      <td>2190</td>\n",
       "      <td>14.1</td>\n",
       "      <td>77</td>\n",
       "      <td>2</td>\n",
       "      <td>volkswagen dasher</td>\n",
       "    </tr>\n",
       "    <tr>\n",
       "      <th>175</th>\n",
       "      <td>29.0</td>\n",
       "      <td>4</td>\n",
       "      <td>90.0</td>\n",
       "      <td>70.0</td>\n",
       "      <td>1937</td>\n",
       "      <td>14.0</td>\n",
       "      <td>75</td>\n",
       "      <td>2</td>\n",
       "      <td>volkswagen rabbit</td>\n",
       "    </tr>\n",
       "    <tr>\n",
       "      <th>203</th>\n",
       "      <td>29.5</td>\n",
       "      <td>4</td>\n",
       "      <td>97.0</td>\n",
       "      <td>71.0</td>\n",
       "      <td>1825</td>\n",
       "      <td>12.2</td>\n",
       "      <td>76</td>\n",
       "      <td>2</td>\n",
       "      <td>volkswagen rabbit</td>\n",
       "    </tr>\n",
       "    <tr>\n",
       "      <th>197</th>\n",
       "      <td>29.0</td>\n",
       "      <td>4</td>\n",
       "      <td>90.0</td>\n",
       "      <td>70.0</td>\n",
       "      <td>1937</td>\n",
       "      <td>14.2</td>\n",
       "      <td>76</td>\n",
       "      <td>2</td>\n",
       "      <td>vw rabbit</td>\n",
       "    </tr>\n",
       "    <tr>\n",
       "      <th>309</th>\n",
       "      <td>41.5</td>\n",
       "      <td>4</td>\n",
       "      <td>98.0</td>\n",
       "      <td>76.0</td>\n",
       "      <td>2144</td>\n",
       "      <td>14.7</td>\n",
       "      <td>80</td>\n",
       "      <td>2</td>\n",
       "      <td>vw rabbit</td>\n",
       "    </tr>\n",
       "  </tbody>\n",
       "</table>\n",
       "<p>149 rows × 9 columns</p>\n",
       "</div>"
      ],
      "text/plain": [
       "      mpg  cylinders  displacement  horsepower  weight  acceleration  \\\n",
       "257  19.4          6         232.0        90.0    3210          17.2   \n",
       "315  24.3          4         151.0        90.0    3003          20.1   \n",
       "24   21.0          6         199.0        90.0    2648          15.0   \n",
       "33   19.0          6         232.0       100.0    2634          13.0   \n",
       "107  18.0          6         232.0       100.0    2789          15.0   \n",
       "..    ...        ...           ...         ...     ...           ...   \n",
       "240  30.5          4          97.0        78.0    2190          14.1   \n",
       "175  29.0          4          90.0        70.0    1937          14.0   \n",
       "203  29.5          4          97.0        71.0    1825          12.2   \n",
       "197  29.0          4          90.0        70.0    1937          14.2   \n",
       "309  41.5          4          98.0        76.0    2144          14.7   \n",
       "\n",
       "     model year  origin           car name  \n",
       "257          78       1        amc concord  \n",
       "315          80       1        amc concord  \n",
       "24           70       1        amc gremlin  \n",
       "33           71       1        amc gremlin  \n",
       "107          73       1        amc gremlin  \n",
       "..          ...     ...                ...  \n",
       "240          77       2  volkswagen dasher  \n",
       "175          75       2  volkswagen rabbit  \n",
       "203          76       2  volkswagen rabbit  \n",
       "197          76       2          vw rabbit  \n",
       "309          80       2          vw rabbit  \n",
       "\n",
       "[149 rows x 9 columns]"
      ]
     },
     "execution_count": 11,
     "metadata": {},
     "output_type": "execute_result"
    }
   ],
   "source": [
    "df_repeated_cars = df_data_limpo[\"car name\"].value_counts()[df_data_limpo[\"car name\"].value_counts()>1]\n",
    "\n",
    "print(f\"\"\"Existem {len(df_repeated_cars.index)} 'car names' que se repetem.\n",
    "Essas repetições correspondem a {df_repeated_cars.sum()} registros no df_data ({round(100*df_repeated_cars.sum()/len(df_data),1)}% do total).\"\"\")\n",
    "print(linha)\n",
    "\n",
    "df_data_repetead = df_data_limpo.loc[df_data_limpo[\"car name\"].isin(set(df_repeated_cars.index)), :].copy()\n",
    "df_data_repetead.sort_values(by=[\"car name\", \"model year\"], inplace=True)\n",
    "df_data_repetead"
   ]
  },
  {
   "cell_type": "markdown",
   "metadata": {
    "ExecuteTime": {
     "end_time": "2020-09-25T00:05:57.773268Z",
     "start_time": "2020-09-25T00:05:57.458823Z"
    }
   },
   "source": [
    "Porém, quando agrupamos em  'car names' e 'model year', ocorrem somente duas repetições:\n",
    "- ford pinto de 75\n",
    "- plymouth reliant de 81"
   ]
  },
  {
   "cell_type": "code",
   "execution_count": 12,
   "metadata": {
    "ExecuteTime": {
     "end_time": "2020-10-10T00:10:19.761353Z",
     "start_time": "2020-10-10T00:10:19.719359Z"
    }
   },
   "outputs": [
    {
     "data": {
      "text/html": [
       "<div>\n",
       "<style scoped>\n",
       "    .dataframe tbody tr th:only-of-type {\n",
       "        vertical-align: middle;\n",
       "    }\n",
       "\n",
       "    .dataframe tbody tr th {\n",
       "        vertical-align: top;\n",
       "    }\n",
       "\n",
       "    .dataframe thead th {\n",
       "        text-align: right;\n",
       "    }\n",
       "</style>\n",
       "<table border=\"1\" class=\"dataframe\">\n",
       "  <thead>\n",
       "    <tr style=\"text-align: right;\">\n",
       "      <th></th>\n",
       "      <th>car name</th>\n",
       "      <th>model year</th>\n",
       "      <th>contagem</th>\n",
       "    </tr>\n",
       "  </thead>\n",
       "  <tbody>\n",
       "    <tr>\n",
       "      <th>211</th>\n",
       "      <td>ford pinto</td>\n",
       "      <td>75</td>\n",
       "      <td>2</td>\n",
       "    </tr>\n",
       "    <tr>\n",
       "      <th>300</th>\n",
       "      <td>plymouth reliant</td>\n",
       "      <td>81</td>\n",
       "      <td>2</td>\n",
       "    </tr>\n",
       "  </tbody>\n",
       "</table>\n",
       "</div>"
      ],
      "text/plain": [
       "             car name  model year  contagem\n",
       "211        ford pinto          75         2\n",
       "300  plymouth reliant          81         2"
      ]
     },
     "execution_count": 12,
     "metadata": {},
     "output_type": "execute_result"
    }
   ],
   "source": [
    "repeticoes = (df_data_limpo.groupby([\"car name\", \"model year\"]).agg({\"mpg\":\"count\"}).rename(columns={\"mpg\":\"contagem\"}).reset_index())\n",
    "repeticoes.loc[repeticoes.sort_values(by=\"contagem\", ascending=False)[\"contagem\"]>1]"
   ]
  },
  {
   "cell_type": "code",
   "execution_count": 13,
   "metadata": {
    "ExecuteTime": {
     "end_time": "2020-10-10T00:10:19.808356Z",
     "start_time": "2020-10-10T00:10:19.766355Z"
    }
   },
   "outputs": [
    {
     "data": {
      "text/html": [
       "<div>\n",
       "<style scoped>\n",
       "    .dataframe tbody tr th:only-of-type {\n",
       "        vertical-align: middle;\n",
       "    }\n",
       "\n",
       "    .dataframe tbody tr th {\n",
       "        vertical-align: top;\n",
       "    }\n",
       "\n",
       "    .dataframe thead th {\n",
       "        text-align: right;\n",
       "    }\n",
       "</style>\n",
       "<table border=\"1\" class=\"dataframe\">\n",
       "  <thead>\n",
       "    <tr style=\"text-align: right;\">\n",
       "      <th></th>\n",
       "      <th>mpg</th>\n",
       "      <th>cylinders</th>\n",
       "      <th>displacement</th>\n",
       "      <th>horsepower</th>\n",
       "      <th>weight</th>\n",
       "      <th>acceleration</th>\n",
       "      <th>model year</th>\n",
       "      <th>origin</th>\n",
       "      <th>car name</th>\n",
       "    </tr>\n",
       "  </thead>\n",
       "  <tbody>\n",
       "    <tr>\n",
       "      <th>168</th>\n",
       "      <td>23.0</td>\n",
       "      <td>4</td>\n",
       "      <td>140.0</td>\n",
       "      <td>83.0</td>\n",
       "      <td>2639</td>\n",
       "      <td>17.0</td>\n",
       "      <td>75</td>\n",
       "      <td>1</td>\n",
       "      <td>ford pinto</td>\n",
       "    </tr>\n",
       "    <tr>\n",
       "      <th>174</th>\n",
       "      <td>18.0</td>\n",
       "      <td>6</td>\n",
       "      <td>171.0</td>\n",
       "      <td>97.0</td>\n",
       "      <td>2984</td>\n",
       "      <td>14.5</td>\n",
       "      <td>75</td>\n",
       "      <td>1</td>\n",
       "      <td>ford pinto</td>\n",
       "    </tr>\n",
       "    <tr>\n",
       "      <th>338</th>\n",
       "      <td>27.2</td>\n",
       "      <td>4</td>\n",
       "      <td>135.0</td>\n",
       "      <td>84.0</td>\n",
       "      <td>2490</td>\n",
       "      <td>15.7</td>\n",
       "      <td>81</td>\n",
       "      <td>1</td>\n",
       "      <td>plymouth reliant</td>\n",
       "    </tr>\n",
       "    <tr>\n",
       "      <th>342</th>\n",
       "      <td>30.0</td>\n",
       "      <td>4</td>\n",
       "      <td>135.0</td>\n",
       "      <td>84.0</td>\n",
       "      <td>2385</td>\n",
       "      <td>12.9</td>\n",
       "      <td>81</td>\n",
       "      <td>1</td>\n",
       "      <td>plymouth reliant</td>\n",
       "    </tr>\n",
       "  </tbody>\n",
       "</table>\n",
       "</div>"
      ],
      "text/plain": [
       "      mpg  cylinders  displacement  horsepower  weight  acceleration  \\\n",
       "168  23.0          4         140.0        83.0    2639          17.0   \n",
       "174  18.0          6         171.0        97.0    2984          14.5   \n",
       "338  27.2          4         135.0        84.0    2490          15.7   \n",
       "342  30.0          4         135.0        84.0    2385          12.9   \n",
       "\n",
       "     model year  origin          car name  \n",
       "168          75       1        ford pinto  \n",
       "174          75       1        ford pinto  \n",
       "338          81       1  plymouth reliant  \n",
       "342          81       1  plymouth reliant  "
      ]
     },
     "execution_count": 13,
     "metadata": {},
     "output_type": "execute_result"
    }
   ],
   "source": [
    "df_data_limpo.loc[((df_data_limpo[\"car name\"]==\"ford pinto\") &\n",
    "                   (df_data_limpo[\"model year\"]==75))|\n",
    "                  ((df_data_limpo[\"car name\"]==\"plymouth reliant\") &\n",
    "                   (df_data_limpo[\"model year\"]==81)), :]"
   ]
  },
  {
   "cell_type": "markdown",
   "metadata": {},
   "source": [
    "A tabela acima evidencia que apesar de termos detectado que haviam muitos 'car names' repetidos, eles não representam o mesmo carro. Por mesmo carro, entendemos que será o registro que possui 'car name', 'model year' e 'cylinders' com os mesmos valores. Portanto, temos apenas uma repetição: **plymouth reliant de 81 com 4 cilindros**.\n",
    "\n",
    "Para tratar essa repetição, pegaremos as médias de cada atributo desse registro repetido."
   ]
  },
  {
   "cell_type": "code",
   "execution_count": 14,
   "metadata": {
    "ExecuteTime": {
     "end_time": "2020-10-10T00:10:19.885357Z",
     "start_time": "2020-10-10T00:10:19.816360Z"
    }
   },
   "outputs": [
    {
     "name": "stdout",
     "output_type": "stream",
     "text": [
      "Dimensões do dataset: (397, 9)\n"
     ]
    },
    {
     "data": {
      "text/html": [
       "<div>\n",
       "<style scoped>\n",
       "    .dataframe tbody tr th:only-of-type {\n",
       "        vertical-align: middle;\n",
       "    }\n",
       "\n",
       "    .dataframe tbody tr th {\n",
       "        vertical-align: top;\n",
       "    }\n",
       "\n",
       "    .dataframe thead th {\n",
       "        text-align: right;\n",
       "    }\n",
       "</style>\n",
       "<table border=\"1\" class=\"dataframe\">\n",
       "  <thead>\n",
       "    <tr style=\"text-align: right;\">\n",
       "      <th></th>\n",
       "      <th>car name</th>\n",
       "      <th>model year</th>\n",
       "      <th>cylinders</th>\n",
       "      <th>mpg</th>\n",
       "      <th>displacement</th>\n",
       "      <th>horsepower</th>\n",
       "      <th>weight</th>\n",
       "      <th>acceleration</th>\n",
       "      <th>origin</th>\n",
       "    </tr>\n",
       "  </thead>\n",
       "  <tbody>\n",
       "    <tr>\n",
       "      <th>211</th>\n",
       "      <td>ford pinto</td>\n",
       "      <td>75</td>\n",
       "      <td>4</td>\n",
       "      <td>23.0</td>\n",
       "      <td>140.0</td>\n",
       "      <td>83.0</td>\n",
       "      <td>2639.0</td>\n",
       "      <td>17.0</td>\n",
       "      <td>1.0</td>\n",
       "    </tr>\n",
       "    <tr>\n",
       "      <th>212</th>\n",
       "      <td>ford pinto</td>\n",
       "      <td>75</td>\n",
       "      <td>6</td>\n",
       "      <td>18.0</td>\n",
       "      <td>171.0</td>\n",
       "      <td>97.0</td>\n",
       "      <td>2984.0</td>\n",
       "      <td>14.5</td>\n",
       "      <td>1.0</td>\n",
       "    </tr>\n",
       "    <tr>\n",
       "      <th>301</th>\n",
       "      <td>plymouth reliant</td>\n",
       "      <td>81</td>\n",
       "      <td>4</td>\n",
       "      <td>28.6</td>\n",
       "      <td>135.0</td>\n",
       "      <td>84.0</td>\n",
       "      <td>2437.5</td>\n",
       "      <td>14.3</td>\n",
       "      <td>1.0</td>\n",
       "    </tr>\n",
       "  </tbody>\n",
       "</table>\n",
       "</div>"
      ],
      "text/plain": [
       "             car name  model year  cylinders   mpg  displacement  horsepower  \\\n",
       "211        ford pinto          75          4  23.0         140.0        83.0   \n",
       "212        ford pinto          75          6  18.0         171.0        97.0   \n",
       "301  plymouth reliant          81          4  28.6         135.0        84.0   \n",
       "\n",
       "     weight  acceleration  origin  \n",
       "211  2639.0          17.0     1.0  \n",
       "212  2984.0          14.5     1.0  \n",
       "301  2437.5          14.3     1.0  "
      ]
     },
     "execution_count": 14,
     "metadata": {},
     "output_type": "execute_result"
    }
   ],
   "source": [
    "df_data_without_repetition = (df_data_limpo.groupby([\"car name\", \"model year\", \"cylinders\"])\n",
    "                              .mean().reset_index())\n",
    "\n",
    "print(f\"Dimensões do dataset: {df_data_without_repetition.shape}\")\n",
    "\n",
    "df_data_without_repetition.loc[((df_data_without_repetition[\"car name\"]==\"ford pinto\") &\n",
    "                                (df_data_without_repetition[\"model year\"]==75))|\n",
    "                               ((df_data_without_repetition[\"car name\"]==\"plymouth reliant\") &\n",
    "                                (df_data_without_repetition[\"model year\"]==81)), :]"
   ]
  },
  {
   "cell_type": "markdown",
   "metadata": {},
   "source": [
    "### Analisando o impacto (\"jeitão\") de cada variável categórica com a reposta (\"mpg\")"
   ]
  },
  {
   "cell_type": "code",
   "execution_count": 15,
   "metadata": {
    "ExecuteTime": {
     "end_time": "2020-10-10T00:10:20.913377Z",
     "start_time": "2020-10-10T00:10:19.892356Z"
    }
   },
   "outputs": [
    {
     "data": {
      "image/png": "[encoded data removed]",
      "text/plain": [
       "<Figure size 1440x360 with 3 Axes>"
      ]
     },
     "metadata": {
      "needs_background": "light"
     },
     "output_type": "display_data"
    }
   ],
   "source": [
    "sns.set_palette(set_palette)\n",
    "sns.axes_style(axes_style)\n",
    "\n",
    "fig, axs = plt.subplots(ncols=3, figsize=(20,5))\n",
    "\n",
    "for i, feature in enumerate(df_data_without_repetition[lst_categoricos].columns):\n",
    "    sns.boxplot(x=feature, y=\"mpg\", data=df_data_without_repetition, ax=axs[i])"
   ]
  },
  {
   "cell_type": "markdown",
   "metadata": {},
   "source": [
    "### Criando um novo fator/variável de entrada\n",
    "\n",
    "O fator 'car name' possui a marca do carro. Será que essa seria uma variável importante?"
   ]
  },
  {
   "cell_type": "code",
   "execution_count": 16,
   "metadata": {
    "ExecuteTime": {
     "end_time": "2020-10-10T00:10:20.928366Z",
     "start_time": "2020-10-10T00:10:20.917355Z"
    }
   },
   "outputs": [],
   "source": [
    "def get_car_brand(string):\n",
    "    \"\"\"\n",
    "    Essa função, extrai a marca do carro. Ela extrai os caracteres anteriores ao primeiro espaço.\n",
    "    Inputs: string\n",
    "    Output: slice de string\n",
    "    \"\"\"\n",
    "    index = string.find(\" \")\n",
    "    return string[:index]"
   ]
  },
  {
   "cell_type": "code",
   "execution_count": 17,
   "metadata": {
    "ExecuteTime": {
     "end_time": "2020-10-10T00:10:20.976366Z",
     "start_time": "2020-10-10T00:10:20.936358Z"
    }
   },
   "outputs": [
    {
     "data": {
      "text/html": [
       "<div>\n",
       "<style scoped>\n",
       "    .dataframe tbody tr th:only-of-type {\n",
       "        vertical-align: middle;\n",
       "    }\n",
       "\n",
       "    .dataframe tbody tr th {\n",
       "        vertical-align: top;\n",
       "    }\n",
       "\n",
       "    .dataframe thead th {\n",
       "        text-align: right;\n",
       "    }\n",
       "</style>\n",
       "<table border=\"1\" class=\"dataframe\">\n",
       "  <thead>\n",
       "    <tr style=\"text-align: right;\">\n",
       "      <th></th>\n",
       "      <th>car name</th>\n",
       "      <th>car brand</th>\n",
       "      <th>model year</th>\n",
       "      <th>cylinders</th>\n",
       "      <th>displacement</th>\n",
       "      <th>horsepower</th>\n",
       "      <th>weight</th>\n",
       "      <th>acceleration</th>\n",
       "      <th>origin</th>\n",
       "      <th>mpg</th>\n",
       "    </tr>\n",
       "  </thead>\n",
       "  <tbody>\n",
       "    <tr>\n",
       "      <th>0</th>\n",
       "      <td>amc ambassador brougham</td>\n",
       "      <td>amc</td>\n",
       "      <td>73</td>\n",
       "      <td>8</td>\n",
       "      <td>360.0</td>\n",
       "      <td>175.0</td>\n",
       "      <td>3821.0</td>\n",
       "      <td>11.0</td>\n",
       "      <td>1.0</td>\n",
       "      <td>13.0</td>\n",
       "    </tr>\n",
       "    <tr>\n",
       "      <th>1</th>\n",
       "      <td>amc ambassador dpl</td>\n",
       "      <td>amc</td>\n",
       "      <td>70</td>\n",
       "      <td>8</td>\n",
       "      <td>390.0</td>\n",
       "      <td>190.0</td>\n",
       "      <td>3850.0</td>\n",
       "      <td>8.5</td>\n",
       "      <td>1.0</td>\n",
       "      <td>15.0</td>\n",
       "    </tr>\n",
       "    <tr>\n",
       "      <th>2</th>\n",
       "      <td>amc ambassador sst</td>\n",
       "      <td>amc</td>\n",
       "      <td>72</td>\n",
       "      <td>8</td>\n",
       "      <td>304.0</td>\n",
       "      <td>150.0</td>\n",
       "      <td>3672.0</td>\n",
       "      <td>11.5</td>\n",
       "      <td>1.0</td>\n",
       "      <td>17.0</td>\n",
       "    </tr>\n",
       "    <tr>\n",
       "      <th>3</th>\n",
       "      <td>amc concord</td>\n",
       "      <td>amc</td>\n",
       "      <td>78</td>\n",
       "      <td>6</td>\n",
       "      <td>232.0</td>\n",
       "      <td>90.0</td>\n",
       "      <td>3210.0</td>\n",
       "      <td>17.2</td>\n",
       "      <td>1.0</td>\n",
       "      <td>19.4</td>\n",
       "    </tr>\n",
       "    <tr>\n",
       "      <th>4</th>\n",
       "      <td>amc concord</td>\n",
       "      <td>amc</td>\n",
       "      <td>80</td>\n",
       "      <td>4</td>\n",
       "      <td>151.0</td>\n",
       "      <td>90.0</td>\n",
       "      <td>3003.0</td>\n",
       "      <td>20.1</td>\n",
       "      <td>1.0</td>\n",
       "      <td>24.3</td>\n",
       "    </tr>\n",
       "  </tbody>\n",
       "</table>\n",
       "</div>"
      ],
      "text/plain": [
       "                  car name car brand  model year  cylinders  displacement  \\\n",
       "0  amc ambassador brougham       amc          73          8         360.0   \n",
       "1       amc ambassador dpl       amc          70          8         390.0   \n",
       "2       amc ambassador sst       amc          72          8         304.0   \n",
       "3              amc concord       amc          78          6         232.0   \n",
       "4              amc concord       amc          80          4         151.0   \n",
       "\n",
       "   horsepower  weight  acceleration  origin   mpg  \n",
       "0       175.0  3821.0          11.0     1.0  13.0  \n",
       "1       190.0  3850.0           8.5     1.0  15.0  \n",
       "2       150.0  3672.0          11.5     1.0  17.0  \n",
       "3        90.0  3210.0          17.2     1.0  19.4  \n",
       "4        90.0  3003.0          20.1     1.0  24.3  "
      ]
     },
     "execution_count": 17,
     "metadata": {},
     "output_type": "execute_result"
    }
   ],
   "source": [
    "df_data_without_repetition[\"car brand\"] = df_data_without_repetition[\"car name\"].apply(get_car_brand)\n",
    "\n",
    "# Arrumando a ordem dos fatores e reposta:\n",
    "df_data_without_repetition = df_data_without_repetition[['car name', 'car brand', 'model year', 'cylinders', 'displacement',\n",
    "                                                         'horsepower', 'weight', 'acceleration', 'origin', 'mpg']]\n",
    "\n",
    "df_data_without_repetition.head()"
   ]
  },
  {
   "cell_type": "code",
   "execution_count": 18,
   "metadata": {
    "ExecuteTime": {
     "end_time": "2020-10-10T00:10:22.101360Z",
     "start_time": "2020-10-10T00:10:20.980353Z"
    }
   },
   "outputs": [
    {
     "data": {
      "image/png": "[encoded data removed]",
      "text/plain": [
       "<Figure size 720x720 with 1 Axes>"
      ]
     },
     "metadata": {
      "needs_background": "light"
     },
     "output_type": "display_data"
    }
   ],
   "source": [
    "brand_mpg_order = (df_data_without_repetition.groupby(\"car brand\").agg({\"mpg\": \"median\"}).rename(columns={\"mpg\": \"mediana de mpg\"}).reset_index())\n",
    "brand_mpg_order.sort_values(by=\"mediana de mpg\", inplace=True)\n",
    "\n",
    "plt.figure(figsize=(10,10))\n",
    "ax = sns.boxplot(y=\"car brand\", x=\"mpg\", data=df_data_without_repetition, order=brand_mpg_order[\"car brand\"])"
   ]
  },
  {
   "cell_type": "markdown",
   "metadata": {},
   "source": [
    "O gráfico acima evidenciou \"*typos*\" nas marcas. Por exemplo:\n",
    "- **chevrolet** aparece também como **chevroelt**\n",
    "- **mazda** aparece também como **maxda**\n",
    "- **mercedes-benz** aparece também como **mercedes**\n",
    "- **subaru** aparece também como **subar**\n",
    "- **toyota** aparece também como **toyouta**\n",
    "- **volkswagen** aparece também como **vokswagen** e **vw**\n",
    "\n",
    "Como são poucas substituições, faremos manualmente. No entanto uma estratégia usando Regex seja uma alternativa melhor quando lidamos com uma quantidade de dados maior."
   ]
  },
  {
   "cell_type": "code",
   "execution_count": 19,
   "metadata": {
    "ExecuteTime": {
     "end_time": "2020-10-10T00:10:22.163356Z",
     "start_time": "2020-10-10T00:10:22.105355Z"
    }
   },
   "outputs": [
    {
     "data": {
      "text/html": [
       "<div>\n",
       "<style scoped>\n",
       "    .dataframe tbody tr th:only-of-type {\n",
       "        vertical-align: middle;\n",
       "    }\n",
       "\n",
       "    .dataframe tbody tr th {\n",
       "        vertical-align: top;\n",
       "    }\n",
       "\n",
       "    .dataframe thead th {\n",
       "        text-align: right;\n",
       "    }\n",
       "</style>\n",
       "<table border=\"1\" class=\"dataframe\">\n",
       "  <thead>\n",
       "    <tr style=\"text-align: right;\">\n",
       "      <th></th>\n",
       "      <th>car name</th>\n",
       "      <th>car brand</th>\n",
       "      <th>model year</th>\n",
       "      <th>cylinders</th>\n",
       "      <th>displacement</th>\n",
       "      <th>horsepower</th>\n",
       "      <th>weight</th>\n",
       "      <th>acceleration</th>\n",
       "      <th>origin</th>\n",
       "      <th>mpg</th>\n",
       "    </tr>\n",
       "  </thead>\n",
       "  <tbody>\n",
       "    <tr>\n",
       "      <th>342</th>\n",
       "      <td>toyota carina</td>\n",
       "      <td>toyota</td>\n",
       "      <td>73</td>\n",
       "      <td>4</td>\n",
       "      <td>97.0</td>\n",
       "      <td>88.0</td>\n",
       "      <td>2279.0</td>\n",
       "      <td>19.0</td>\n",
       "      <td>3.0</td>\n",
       "      <td>20.0</td>\n",
       "    </tr>\n",
       "    <tr>\n",
       "      <th>343</th>\n",
       "      <td>toyota celica gt</td>\n",
       "      <td>toyota</td>\n",
       "      <td>82</td>\n",
       "      <td>4</td>\n",
       "      <td>144.0</td>\n",
       "      <td>96.0</td>\n",
       "      <td>2665.0</td>\n",
       "      <td>13.9</td>\n",
       "      <td>3.0</td>\n",
       "      <td>32.0</td>\n",
       "    </tr>\n",
       "    <tr>\n",
       "      <th>344</th>\n",
       "      <td>toyota celica gt liftback</td>\n",
       "      <td>toyota</td>\n",
       "      <td>78</td>\n",
       "      <td>4</td>\n",
       "      <td>134.0</td>\n",
       "      <td>95.0</td>\n",
       "      <td>2515.0</td>\n",
       "      <td>14.8</td>\n",
       "      <td>3.0</td>\n",
       "      <td>21.1</td>\n",
       "    </tr>\n",
       "  </tbody>\n",
       "</table>\n",
       "</div>"
      ],
      "text/plain": [
       "                      car name car brand  model year  cylinders  displacement  \\\n",
       "342              toyota carina    toyota          73          4          97.0   \n",
       "343           toyota celica gt    toyota          82          4         144.0   \n",
       "344  toyota celica gt liftback    toyota          78          4         134.0   \n",
       "\n",
       "     horsepower  weight  acceleration  origin   mpg  \n",
       "342        88.0  2279.0          19.0     3.0  20.0  \n",
       "343        96.0  2665.0          13.9     3.0  32.0  \n",
       "344        95.0  2515.0          14.8     3.0  21.1  "
      ]
     },
     "execution_count": 19,
     "metadata": {},
     "output_type": "execute_result"
    }
   ],
   "source": [
    "df_data_without_repetition.replace({\"chevroelt\":\"chevrolet\", \"maxda\":\"mazda\", \"mercedes-benz\":\"mercedes\",\n",
    "                                    \"subar\":\"subaru\", \"toyouta\":\"toyota\", \"vokswagen\":\"volkswagen\", \"vw\":\"volkswagen\"}, inplace=True)\n",
    "\n",
    "df_data_without_repetition.loc[df_data_without_repetition[\"car brand\"].str.contains(\"toy\")].head(3)"
   ]
  },
  {
   "cell_type": "markdown",
   "metadata": {},
   "source": [
    "Refazendo o boxplot das marcas por mpg:"
   ]
  },
  {
   "cell_type": "code",
   "execution_count": 20,
   "metadata": {
    "ExecuteTime": {
     "end_time": "2020-10-10T00:10:23.123376Z",
     "start_time": "2020-10-10T00:10:22.169368Z"
    }
   },
   "outputs": [
    {
     "data": {
      "image/png": "[encoded data removed]",
      "text/plain": [
       "<Figure size 720x720 with 1 Axes>"
      ]
     },
     "metadata": {
      "needs_background": "light"
     },
     "output_type": "display_data"
    }
   ],
   "source": [
    "brand_mpg_order = (df_data_without_repetition.groupby(\"car brand\").agg({\"mpg\": \"median\"}).rename(columns={\"mpg\": \"mediana de mpg\"}).reset_index())\n",
    "brand_mpg_order.sort_values(by=\"mediana de mpg\", inplace=True)\n",
    "\n",
    "plt.figure(figsize=(10,10))\n",
    "ax = sns.boxplot(y=\"car brand\", x=\"mpg\", data=df_data_without_repetition, order=brand_mpg_order[\"car brand\"])"
   ]
  },
  {
   "cell_type": "code",
   "execution_count": 21,
   "metadata": {
    "ExecuteTime": {
     "end_time": "2020-10-10T00:10:23.169377Z",
     "start_time": "2020-10-10T00:10:23.127356Z"
    }
   },
   "outputs": [
    {
     "name": "stdout",
     "output_type": "stream",
     "text": [
      "Por fim, ficamos com um dataset com:\n",
      " - 397 registros; e\n",
      " - 9 atributos.\n",
      " \n",
      " Ou seja, reduzimos um registro e aumentamos um atributo em relação ao original.\n"
     ]
    },
    {
     "data": {
      "text/html": [
       "<div>\n",
       "<style scoped>\n",
       "    .dataframe tbody tr th:only-of-type {\n",
       "        vertical-align: middle;\n",
       "    }\n",
       "\n",
       "    .dataframe tbody tr th {\n",
       "        vertical-align: top;\n",
       "    }\n",
       "\n",
       "    .dataframe thead th {\n",
       "        text-align: right;\n",
       "    }\n",
       "</style>\n",
       "<table border=\"1\" class=\"dataframe\">\n",
       "  <thead>\n",
       "    <tr style=\"text-align: right;\">\n",
       "      <th></th>\n",
       "      <th>car name</th>\n",
       "      <th>car brand</th>\n",
       "      <th>model year</th>\n",
       "      <th>cylinders</th>\n",
       "      <th>displacement</th>\n",
       "      <th>horsepower</th>\n",
       "      <th>weight</th>\n",
       "      <th>acceleration</th>\n",
       "      <th>origin</th>\n",
       "      <th>mpg</th>\n",
       "    </tr>\n",
       "  </thead>\n",
       "  <tbody>\n",
       "    <tr>\n",
       "      <th>0</th>\n",
       "      <td>amc ambassador brougham</td>\n",
       "      <td>amc</td>\n",
       "      <td>73</td>\n",
       "      <td>8</td>\n",
       "      <td>360.0</td>\n",
       "      <td>175.0</td>\n",
       "      <td>3821.0</td>\n",
       "      <td>11.0</td>\n",
       "      <td>1.0</td>\n",
       "      <td>13.0</td>\n",
       "    </tr>\n",
       "    <tr>\n",
       "      <th>1</th>\n",
       "      <td>amc ambassador dpl</td>\n",
       "      <td>amc</td>\n",
       "      <td>70</td>\n",
       "      <td>8</td>\n",
       "      <td>390.0</td>\n",
       "      <td>190.0</td>\n",
       "      <td>3850.0</td>\n",
       "      <td>8.5</td>\n",
       "      <td>1.0</td>\n",
       "      <td>15.0</td>\n",
       "    </tr>\n",
       "    <tr>\n",
       "      <th>2</th>\n",
       "      <td>amc ambassador sst</td>\n",
       "      <td>amc</td>\n",
       "      <td>72</td>\n",
       "      <td>8</td>\n",
       "      <td>304.0</td>\n",
       "      <td>150.0</td>\n",
       "      <td>3672.0</td>\n",
       "      <td>11.5</td>\n",
       "      <td>1.0</td>\n",
       "      <td>17.0</td>\n",
       "    </tr>\n",
       "    <tr>\n",
       "      <th>3</th>\n",
       "      <td>amc concord</td>\n",
       "      <td>amc</td>\n",
       "      <td>78</td>\n",
       "      <td>6</td>\n",
       "      <td>232.0</td>\n",
       "      <td>90.0</td>\n",
       "      <td>3210.0</td>\n",
       "      <td>17.2</td>\n",
       "      <td>1.0</td>\n",
       "      <td>19.4</td>\n",
       "    </tr>\n",
       "    <tr>\n",
       "      <th>4</th>\n",
       "      <td>amc concord</td>\n",
       "      <td>amc</td>\n",
       "      <td>80</td>\n",
       "      <td>4</td>\n",
       "      <td>151.0</td>\n",
       "      <td>90.0</td>\n",
       "      <td>3003.0</td>\n",
       "      <td>20.1</td>\n",
       "      <td>1.0</td>\n",
       "      <td>24.3</td>\n",
       "    </tr>\n",
       "  </tbody>\n",
       "</table>\n",
       "</div>"
      ],
      "text/plain": [
       "                  car name car brand  model year  cylinders  displacement  \\\n",
       "0  amc ambassador brougham       amc          73          8         360.0   \n",
       "1       amc ambassador dpl       amc          70          8         390.0   \n",
       "2       amc ambassador sst       amc          72          8         304.0   \n",
       "3              amc concord       amc          78          6         232.0   \n",
       "4              amc concord       amc          80          4         151.0   \n",
       "\n",
       "   horsepower  weight  acceleration  origin   mpg  \n",
       "0       175.0  3821.0          11.0     1.0  13.0  \n",
       "1       190.0  3850.0           8.5     1.0  15.0  \n",
       "2       150.0  3672.0          11.5     1.0  17.0  \n",
       "3        90.0  3210.0          17.2     1.0  19.4  \n",
       "4        90.0  3003.0          20.1     1.0  24.3  "
      ]
     },
     "execution_count": 21,
     "metadata": {},
     "output_type": "execute_result"
    }
   ],
   "source": [
    "print(f\"\"\"Por fim, ficamos com um dataset com:\n",
    " - {df_data_without_repetition.shape[0]} registros; e\n",
    " - {df_data_without_repetition.shape[1]-1} atributos.\n",
    " \n",
    " Ou seja, reduzimos um registro e aumentamos um atributo em relação ao original.\"\"\")\n",
    "\n",
    "df_data_without_repetition.head()"
   ]
  },
  {
   "cell_type": "markdown",
   "metadata": {},
   "source": [
    "#### Extraindo a base para a próxima etapa"
   ]
  },
  {
   "cell_type": "code",
   "execution_count": 22,
   "metadata": {
    "ExecuteTime": {
     "end_time": "2020-10-10T00:10:23.482368Z",
     "start_time": "2020-10-10T00:10:23.174356Z"
    }
   },
   "outputs": [],
   "source": [
    "df_data_without_repetition.to_parquet(path_interim_data+\"df_data_step_1_output.pqt\")"
   ]
  },
  {
   "cell_type": "markdown",
   "metadata": {},
   "source": [
    "## Próximo passo:\n",
    "\n",
    "- Em [2_data_preparation_suto.ipynb](./2_data_preparation_suto.ipynb):\n",
    " - transformaremos os dados categóricos em numéricos para serem consumidos pelo modelo."
   ]
  },
  {
   "cell_type": "markdown",
   "metadata": {},
   "source": [
    "## Bônus - Análise estatística descritiva com pandas profiling\n",
    "\n",
    "Depois da aula no IGTI, lembramos dessa biblioteca.\n",
    "Além da geração automática do relatório de análise estatística descritiva, há a possibilidade da exportação de um HTML. Para ver o relatório desse dataset, clique [**aqui**](\"../outputs/relatorio_estatistica_descritiva.html\")."
   ]
  },
  {
   "cell_type": "code",
   "execution_count": 23,
   "metadata": {
    "ExecuteTime": {
     "end_time": "2020-10-11T00:33:09.130884Z",
     "start_time": "2020-10-11T00:30:34.837607Z"
    }
   },
   "outputs": [
    {
     "data": {
      "application/vnd.jupyter.widget-view+json": {
       "model_id": "61548f03b0eb48ca9c5bc0d8175866ee",
       "version_major": 2,
       "version_minor": 0
      },
      "text/plain": [
       "HBox(children=(HTML(value='Summarize dataset'), FloatProgress(value=0.0, max=24.0), HTML(value='')))"
      ]
     },
     "metadata": {},
     "output_type": "display_data"
    },
    {
     "name": "stdout",
     "output_type": "stream",
     "text": [
      "\n"
     ]
    },
    {
     "data": {
      "application/vnd.jupyter.widget-view+json": {
       "model_id": "ad4f35a556044f81a587f3c7d930a8a9",
       "version_major": 2,
       "version_minor": 0
      },
      "text/plain": [
       "HBox(children=(HTML(value='Generate report structure'), FloatProgress(value=0.0, max=1.0), HTML(value='')))"
      ]
     },
     "metadata": {},
     "output_type": "display_data"
    },
    {
     "name": "stdout",
     "output_type": "stream",
     "text": [
      "\n"
     ]
    },
    {
     "data": {
      "application/vnd.jupyter.widget-view+json": {
       "model_id": "10ee38a0c96c4ba78799ddea2505707e",
       "version_major": 2,
       "version_minor": 0
      },
      "text/plain": [
       "HBox(children=(HTML(value='Render widgets'), FloatProgress(value=0.0, max=1.0), HTML(value='')))"
      ]
     },
     "metadata": {},
     "output_type": "display_data"
    },
    {
     "data": {
      "text/html": [
       "<div>\n",
       "<style scoped>\n",
       "    .dataframe tbody tr th:only-of-type {\n",
       "        vertical-align: middle;\n",
       "    }\n",
       "\n",
       "    .dataframe tbody tr th {\n",
       "        vertical-align: top;\n",
       "    }\n",
       "\n",
       "    .dataframe thead th {\n",
       "        text-align: right;\n",
       "    }\n",
       "</style>\n",
       "<table border=\"1\" class=\"dataframe\">\n",
       "  <thead>\n",
       "    <tr style=\"text-align: right;\">\n",
       "      <th></th>\n",
       "      <th>car name</th>\n",
       "      <th>car brand</th>\n",
       "      <th>model year</th>\n",
       "      <th>cylinders</th>\n",
       "      <th>displacement</th>\n",
       "      <th>horsepower</th>\n",
       "      <th>weight</th>\n",
       "      <th>acceleration</th>\n",
       "      <th>origin</th>\n",
       "      <th>mpg</th>\n",
       "    </tr>\n",
       "  </thead>\n",
       "  <tbody>\n",
       "    <tr>\n",
       "      <th>0</th>\n",
       "      <td>amc ambassador brougham</td>\n",
       "      <td>amc</td>\n",
       "      <td>73</td>\n",
       "      <td>8</td>\n",
       "      <td>360.0</td>\n",
       "      <td>175.0</td>\n",
       "      <td>3821.0</td>\n",
       "      <td>11.0</td>\n",
       "      <td>1.0</td>\n",
       "      <td>13.0</td>\n",
       "    </tr>\n",
       "    <tr>\n",
       "      <th>1</th>\n",
       "      <td>amc ambassador dpl</td>\n",
       "      <td>amc</td>\n",
       "      <td>70</td>\n",
       "      <td>8</td>\n",
       "      <td>390.0</td>\n",
       "      <td>190.0</td>\n",
       "      <td>3850.0</td>\n",
       "      <td>8.5</td>\n",
       "      <td>1.0</td>\n",
       "      <td>15.0</td>\n",
       "    </tr>\n",
       "    <tr>\n",
       "      <th>2</th>\n",
       "      <td>amc ambassador sst</td>\n",
       "      <td>amc</td>\n",
       "      <td>72</td>\n",
       "      <td>8</td>\n",
       "      <td>304.0</td>\n",
       "      <td>150.0</td>\n",
       "      <td>3672.0</td>\n",
       "      <td>11.5</td>\n",
       "      <td>1.0</td>\n",
       "      <td>17.0</td>\n",
       "    </tr>\n",
       "    <tr>\n",
       "      <th>3</th>\n",
       "      <td>amc concord</td>\n",
       "      <td>amc</td>\n",
       "      <td>78</td>\n",
       "      <td>6</td>\n",
       "      <td>232.0</td>\n",
       "      <td>90.0</td>\n",
       "      <td>3210.0</td>\n",
       "      <td>17.2</td>\n",
       "      <td>1.0</td>\n",
       "      <td>19.4</td>\n",
       "    </tr>\n",
       "    <tr>\n",
       "      <th>4</th>\n",
       "      <td>amc concord</td>\n",
       "      <td>amc</td>\n",
       "      <td>80</td>\n",
       "      <td>4</td>\n",
       "      <td>151.0</td>\n",
       "      <td>90.0</td>\n",
       "      <td>3003.0</td>\n",
       "      <td>20.1</td>\n",
       "      <td>1.0</td>\n",
       "      <td>24.3</td>\n",
       "    </tr>\n",
       "    <tr>\n",
       "      <th>5</th>\n",
       "      <td>amc concord d/l</td>\n",
       "      <td>amc</td>\n",
       "      <td>78</td>\n",
       "      <td>6</td>\n",
       "      <td>258.0</td>\n",
       "      <td>120.0</td>\n",
       "      <td>3410.0</td>\n",
       "      <td>15.1</td>\n",
       "      <td>1.0</td>\n",
       "      <td>18.1</td>\n",
       "    </tr>\n",
       "    <tr>\n",
       "      <th>6</th>\n",
       "      <td>amc concord dl</td>\n",
       "      <td>amc</td>\n",
       "      <td>82</td>\n",
       "      <td>4</td>\n",
       "      <td>151.0</td>\n",
       "      <td>104.0</td>\n",
       "      <td>3035.0</td>\n",
       "      <td>20.5</td>\n",
       "      <td>1.0</td>\n",
       "      <td>23.0</td>\n",
       "    </tr>\n",
       "    <tr>\n",
       "      <th>7</th>\n",
       "      <td>amc concord dl 6</td>\n",
       "      <td>amc</td>\n",
       "      <td>79</td>\n",
       "      <td>6</td>\n",
       "      <td>232.0</td>\n",
       "      <td>90.0</td>\n",
       "      <td>3265.0</td>\n",
       "      <td>18.2</td>\n",
       "      <td>1.0</td>\n",
       "      <td>20.2</td>\n",
       "    </tr>\n",
       "    <tr>\n",
       "      <th>8</th>\n",
       "      <td>amc gremlin</td>\n",
       "      <td>amc</td>\n",
       "      <td>70</td>\n",
       "      <td>6</td>\n",
       "      <td>199.0</td>\n",
       "      <td>90.0</td>\n",
       "      <td>2648.0</td>\n",
       "      <td>15.0</td>\n",
       "      <td>1.0</td>\n",
       "      <td>21.0</td>\n",
       "    </tr>\n",
       "    <tr>\n",
       "      <th>9</th>\n",
       "      <td>amc gremlin</td>\n",
       "      <td>amc</td>\n",
       "      <td>71</td>\n",
       "      <td>6</td>\n",
       "      <td>232.0</td>\n",
       "      <td>100.0</td>\n",
       "      <td>2634.0</td>\n",
       "      <td>13.0</td>\n",
       "      <td>1.0</td>\n",
       "      <td>19.0</td>\n",
       "    </tr>\n",
       "  </tbody>\n",
       "</table>\n",
       "</div>"
      ],
      "text/plain": [
       "                  car name car brand  model year  cylinders  displacement  \\\n",
       "0  amc ambassador brougham       amc          73          8         360.0   \n",
       "1       amc ambassador dpl       amc          70          8         390.0   \n",
       "2       amc ambassador sst       amc          72          8         304.0   \n",
       "3              amc concord       amc          78          6         232.0   \n",
       "4              amc concord       amc          80          4         151.0   \n",
       "5          amc concord d/l       amc          78          6         258.0   \n",
       "6           amc concord dl       amc          82          4         151.0   \n",
       "7         amc concord dl 6       amc          79          6         232.0   \n",
       "8              amc gremlin       amc          70          6         199.0   \n",
       "9              amc gremlin       amc          71          6         232.0   \n",
       "\n",
       "   horsepower  weight  acceleration  origin   mpg  \n",
       "0       175.0  3821.0          11.0     1.0  13.0  \n",
       "1       190.0  3850.0           8.5     1.0  15.0  \n",
       "2       150.0  3672.0          11.5     1.0  17.0  \n",
       "3        90.0  3210.0          17.2     1.0  19.4  \n",
       "4        90.0  3003.0          20.1     1.0  24.3  \n",
       "5       120.0  3410.0          15.1     1.0  18.1  \n",
       "6       104.0  3035.0          20.5     1.0  23.0  \n",
       "7        90.0  3265.0          18.2     1.0  20.2  \n",
       "8        90.0  2648.0          15.0     1.0  21.0  \n",
       "9       100.0  2634.0          13.0     1.0  19.0  "
      ]
     },
     "metadata": {},
     "output_type": "display_data"
    },
    {
     "data": {
      "text/html": [
       "<div>\n",
       "<style scoped>\n",
       "    .dataframe tbody tr th:only-of-type {\n",
       "        vertical-align: middle;\n",
       "    }\n",
       "\n",
       "    .dataframe tbody tr th {\n",
       "        vertical-align: top;\n",
       "    }\n",
       "\n",
       "    .dataframe thead th {\n",
       "        text-align: right;\n",
       "    }\n",
       "</style>\n",
       "<table border=\"1\" class=\"dataframe\">\n",
       "  <thead>\n",
       "    <tr style=\"text-align: right;\">\n",
       "      <th></th>\n",
       "      <th>car name</th>\n",
       "      <th>car brand</th>\n",
       "      <th>model year</th>\n",
       "      <th>cylinders</th>\n",
       "      <th>displacement</th>\n",
       "      <th>horsepower</th>\n",
       "      <th>weight</th>\n",
       "      <th>acceleration</th>\n",
       "      <th>origin</th>\n",
       "      <th>mpg</th>\n",
       "    </tr>\n",
       "  </thead>\n",
       "  <tbody>\n",
       "    <tr>\n",
       "      <th>387</th>\n",
       "      <td>volvo 244dl</td>\n",
       "      <td>volvo</td>\n",
       "      <td>75</td>\n",
       "      <td>4</td>\n",
       "      <td>121.0</td>\n",
       "      <td>98.0</td>\n",
       "      <td>2945.0</td>\n",
       "      <td>14.5</td>\n",
       "      <td>2.0</td>\n",
       "      <td>22.0</td>\n",
       "    </tr>\n",
       "    <tr>\n",
       "      <th>388</th>\n",
       "      <td>volvo 245</td>\n",
       "      <td>volvo</td>\n",
       "      <td>76</td>\n",
       "      <td>4</td>\n",
       "      <td>130.0</td>\n",
       "      <td>102.0</td>\n",
       "      <td>3150.0</td>\n",
       "      <td>15.7</td>\n",
       "      <td>2.0</td>\n",
       "      <td>20.0</td>\n",
       "    </tr>\n",
       "    <tr>\n",
       "      <th>389</th>\n",
       "      <td>volvo 264gl</td>\n",
       "      <td>volvo</td>\n",
       "      <td>78</td>\n",
       "      <td>6</td>\n",
       "      <td>163.0</td>\n",
       "      <td>125.0</td>\n",
       "      <td>3140.0</td>\n",
       "      <td>13.6</td>\n",
       "      <td>2.0</td>\n",
       "      <td>17.0</td>\n",
       "    </tr>\n",
       "    <tr>\n",
       "      <th>390</th>\n",
       "      <td>volvo diesel</td>\n",
       "      <td>volvo</td>\n",
       "      <td>81</td>\n",
       "      <td>6</td>\n",
       "      <td>145.0</td>\n",
       "      <td>76.0</td>\n",
       "      <td>3160.0</td>\n",
       "      <td>19.6</td>\n",
       "      <td>2.0</td>\n",
       "      <td>30.7</td>\n",
       "    </tr>\n",
       "    <tr>\n",
       "      <th>391</th>\n",
       "      <td>vw dasher (diesel)</td>\n",
       "      <td>volkswagen</td>\n",
       "      <td>80</td>\n",
       "      <td>4</td>\n",
       "      <td>90.0</td>\n",
       "      <td>48.0</td>\n",
       "      <td>2335.0</td>\n",
       "      <td>23.7</td>\n",
       "      <td>2.0</td>\n",
       "      <td>43.4</td>\n",
       "    </tr>\n",
       "    <tr>\n",
       "      <th>392</th>\n",
       "      <td>vw pickup</td>\n",
       "      <td>volkswagen</td>\n",
       "      <td>82</td>\n",
       "      <td>4</td>\n",
       "      <td>97.0</td>\n",
       "      <td>52.0</td>\n",
       "      <td>2130.0</td>\n",
       "      <td>24.6</td>\n",
       "      <td>2.0</td>\n",
       "      <td>44.0</td>\n",
       "    </tr>\n",
       "    <tr>\n",
       "      <th>393</th>\n",
       "      <td>vw rabbit</td>\n",
       "      <td>volkswagen</td>\n",
       "      <td>76</td>\n",
       "      <td>4</td>\n",
       "      <td>90.0</td>\n",
       "      <td>70.0</td>\n",
       "      <td>1937.0</td>\n",
       "      <td>14.2</td>\n",
       "      <td>2.0</td>\n",
       "      <td>29.0</td>\n",
       "    </tr>\n",
       "    <tr>\n",
       "      <th>394</th>\n",
       "      <td>vw rabbit</td>\n",
       "      <td>volkswagen</td>\n",
       "      <td>80</td>\n",
       "      <td>4</td>\n",
       "      <td>98.0</td>\n",
       "      <td>76.0</td>\n",
       "      <td>2144.0</td>\n",
       "      <td>14.7</td>\n",
       "      <td>2.0</td>\n",
       "      <td>41.5</td>\n",
       "    </tr>\n",
       "    <tr>\n",
       "      <th>395</th>\n",
       "      <td>vw rabbit c (diesel)</td>\n",
       "      <td>volkswagen</td>\n",
       "      <td>80</td>\n",
       "      <td>4</td>\n",
       "      <td>90.0</td>\n",
       "      <td>48.0</td>\n",
       "      <td>2085.0</td>\n",
       "      <td>21.7</td>\n",
       "      <td>2.0</td>\n",
       "      <td>44.3</td>\n",
       "    </tr>\n",
       "    <tr>\n",
       "      <th>396</th>\n",
       "      <td>vw rabbit custom</td>\n",
       "      <td>volkswagen</td>\n",
       "      <td>79</td>\n",
       "      <td>4</td>\n",
       "      <td>89.0</td>\n",
       "      <td>71.0</td>\n",
       "      <td>1925.0</td>\n",
       "      <td>14.0</td>\n",
       "      <td>2.0</td>\n",
       "      <td>31.9</td>\n",
       "    </tr>\n",
       "  </tbody>\n",
       "</table>\n",
       "</div>"
      ],
      "text/plain": [
       "                 car name   car brand  model year  cylinders  displacement  \\\n",
       "387           volvo 244dl       volvo          75          4         121.0   \n",
       "388             volvo 245       volvo          76          4         130.0   \n",
       "389           volvo 264gl       volvo          78          6         163.0   \n",
       "390          volvo diesel       volvo          81          6         145.0   \n",
       "391    vw dasher (diesel)  volkswagen          80          4          90.0   \n",
       "392             vw pickup  volkswagen          82          4          97.0   \n",
       "393             vw rabbit  volkswagen          76          4          90.0   \n",
       "394             vw rabbit  volkswagen          80          4          98.0   \n",
       "395  vw rabbit c (diesel)  volkswagen          80          4          90.0   \n",
       "396      vw rabbit custom  volkswagen          79          4          89.0   \n",
       "\n",
       "     horsepower  weight  acceleration  origin   mpg  \n",
       "387        98.0  2945.0          14.5     2.0  22.0  \n",
       "388       102.0  3150.0          15.7     2.0  20.0  \n",
       "389       125.0  3140.0          13.6     2.0  17.0  \n",
       "390        76.0  3160.0          19.6     2.0  30.7  \n",
       "391        48.0  2335.0          23.7     2.0  43.4  \n",
       "392        52.0  2130.0          24.6     2.0  44.0  \n",
       "393        70.0  1937.0          14.2     2.0  29.0  \n",
       "394        76.0  2144.0          14.7     2.0  41.5  \n",
       "395        48.0  2085.0          21.7     2.0  44.3  \n",
       "396        71.0  1925.0          14.0     2.0  31.9  "
      ]
     },
     "metadata": {},
     "output_type": "display_data"
    },
    {
     "data": {
      "application/vnd.jupyter.widget-view+json": {
       "model_id": "379f9daf1fbd4f54b4394002d678f3f6",
       "version_major": 2,
       "version_minor": 0
      },
      "text/plain": [
       "VBox(children=(Tab(children=(Tab(children=(GridBox(children=(VBox(children=(GridspecLayout(children=(HTML(valu…"
      ]
     },
     "metadata": {},
     "output_type": "display_data"
    },
    {
     "data": {
      "application/vnd.jupyter.widget-view+json": {
       "model_id": "6473dae799c845a99e34fb6283c4a88d",
       "version_major": 2,
       "version_minor": 0
      },
      "text/plain": [
       "HBox(children=(HTML(value='Render HTML'), FloatProgress(value=0.0, max=1.0), HTML(value='')))"
      ]
     },
     "metadata": {},
     "output_type": "display_data"
    },
    {
     "name": "stdout",
     "output_type": "stream",
     "text": [
      "\n"
     ]
    },
    {
     "data": {
      "application/vnd.jupyter.widget-view+json": {
       "model_id": "4adda72b5458437dbdcd88d3df09134d",
       "version_major": 2,
       "version_minor": 0
      },
      "text/plain": [
       "HBox(children=(HTML(value='Export report to file'), FloatProgress(value=0.0, max=1.0), HTML(value='')))"
      ]
     },
     "metadata": {},
     "output_type": "display_data"
    },
    {
     "name": "stdout",
     "output_type": "stream",
     "text": [
      "\n"
     ]
    }
   ],
   "source": [
    "profile = ProfileReport(df_data_without_repetition, title=\"Relatório de Estatística Descritiva\",\n",
    "                        explorative=True)\n",
    "\n",
    "# profile.to_notebook_iframe();\n",
    "\n",
    "# plotando com widgets\n",
    "profile.to_widgets();\n",
    "\n",
    "# É possível exportar o relatório de análise estatística descritiva para um HTML.\n",
    "profile.to_file(path_outputs+\"relatorio_estatistica_descritiva.html\");"
   ]
  },
  {
   "cell_type": "code",
   "execution_count": null,
   "metadata": {},
   "outputs": [],
   "source": []
  }
 ],
 "metadata": {
  "hide_input": false,
  "kernelspec": {
   "display_name": "Python 3",
   "language": "python",
   "name": "python3"
  },
  "language_info": {
   "codemirror_mode": {
    "name": "ipython",
    "version": 3
   },
   "file_extension": ".py",
   "mimetype": "text/x-python",
   "name": "python",
   "nbconvert_exporter": "python",
   "pygments_lexer": "ipython3",
   "version": "3.8.5"
  },
  "toc": {
   "base_numbering": 1,
   "nav_menu": {},
   "number_sections": true,
   "sideBar": true,
   "skip_h1_title": false,
   "title_cell": "Table of Contents",
   "title_sidebar": "Contents",
   "toc_cell": false,
   "toc_position": {},
   "toc_section_display": true,
   "toc_window_display": false
  }
 },
 "nbformat": 4,
 "nbformat_minor": 4
}
