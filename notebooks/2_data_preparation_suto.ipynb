{
 "cells": [
  {
   "cell_type": "markdown",
   "metadata": {},
   "source": [
    "# 2_data_preparation_suto"
   ]
  },
  {
   "cell_type": "code",
   "execution_count": 71,
   "metadata": {
    "ExecuteTime": {
     "end_time": "2020-12-07T01:28:36.463562Z",
     "start_time": "2020-12-07T01:28:36.456535Z"
    }
   },
   "outputs": [],
   "source": [
    "import os\n",
    "\n",
    "import pandas as pd\n",
    "import numpy as np\n",
    "\n",
    "import matplotlib.pyplot as plt\n",
    "import seaborn as sns\n",
    "import plotly.express as px\n",
    "\n",
    "from feature_engine import categorical_encoders as ce\n",
    "from feature_engine import variable_transformers as vt\n",
    "\n",
    "from sklearn.preprocessing import PolynomialFeatures\n",
    "from sklearn.pipeline import Pipeline\n",
    "\n",
    "from sklearn.linear_model import LinearRegression\n",
    "\n",
    "from sklearn.model_selection import (cross_val_score, RepeatedStratifiedKFold,\n",
    "                                     RandomizedSearchCV, GridSearchCV, train_test_split)\n",
    "\n",
    "from sklearn.metrics import mean_absolute_error, mean_squared_error\n",
    "\n",
    "from sqlalchemy import create_engine\n",
    "\n",
    "path_data = \"../data/raw/\"\n",
    "path_interim_data = \"../data/interim/\"\n",
    "\n",
    "# Parâmetros estéticos dos gráficos:\n",
    "set_palette = \"Paired\"\n",
    "axes_style = \"ticks\"\n",
    "\n",
    "linha = 50*\"-\""
   ]
  },
  {
   "cell_type": "code",
   "execution_count": 72,
   "metadata": {
    "ExecuteTime": {
     "end_time": "2020-12-07T01:28:36.495533Z",
     "start_time": "2020-12-07T01:28:36.465535Z"
    }
   },
   "outputs": [
    {
     "name": "stdout",
     "output_type": "stream",
     "text": [
      "Dimensões do dataset: (397, 10)\n"
     ]
    },
    {
     "data": {
      "text/html": [
       "<div>\n",
       "<style scoped>\n",
       "    .dataframe tbody tr th:only-of-type {\n",
       "        vertical-align: middle;\n",
       "    }\n",
       "\n",
       "    .dataframe tbody tr th {\n",
       "        vertical-align: top;\n",
       "    }\n",
       "\n",
       "    .dataframe thead th {\n",
       "        text-align: right;\n",
       "    }\n",
       "</style>\n",
       "<table border=\"1\" class=\"dataframe\">\n",
       "  <thead>\n",
       "    <tr style=\"text-align: right;\">\n",
       "      <th></th>\n",
       "      <th>car name</th>\n",
       "      <th>car brand</th>\n",
       "      <th>model year</th>\n",
       "      <th>cylinders</th>\n",
       "      <th>displacement</th>\n",
       "      <th>horsepower</th>\n",
       "      <th>weight</th>\n",
       "      <th>acceleration</th>\n",
       "      <th>origin</th>\n",
       "      <th>mpg</th>\n",
       "    </tr>\n",
       "  </thead>\n",
       "  <tbody>\n",
       "    <tr>\n",
       "      <th>114</th>\n",
       "      <td>datsun 210</td>\n",
       "      <td>datsun</td>\n",
       "      <td>80</td>\n",
       "      <td>4</td>\n",
       "      <td>85.0</td>\n",
       "      <td>65.0</td>\n",
       "      <td>2110.0</td>\n",
       "      <td>19.2</td>\n",
       "      <td>3.0</td>\n",
       "      <td>40.8</td>\n",
       "    </tr>\n",
       "    <tr>\n",
       "      <th>278</th>\n",
       "      <td>peugeot 504</td>\n",
       "      <td>peugeot</td>\n",
       "      <td>76</td>\n",
       "      <td>4</td>\n",
       "      <td>120.0</td>\n",
       "      <td>88.0</td>\n",
       "      <td>3270.0</td>\n",
       "      <td>21.9</td>\n",
       "      <td>2.0</td>\n",
       "      <td>19.0</td>\n",
       "    </tr>\n",
       "    <tr>\n",
       "      <th>237</th>\n",
       "      <td>mazda 626</td>\n",
       "      <td>mazda</td>\n",
       "      <td>81</td>\n",
       "      <td>4</td>\n",
       "      <td>120.0</td>\n",
       "      <td>74.0</td>\n",
       "      <td>2635.0</td>\n",
       "      <td>18.3</td>\n",
       "      <td>3.0</td>\n",
       "      <td>31.6</td>\n",
       "    </tr>\n",
       "  </tbody>\n",
       "</table>\n",
       "</div>"
      ],
      "text/plain": [
       "        car name car brand  model year  cylinders  displacement  horsepower  \\\n",
       "114   datsun 210    datsun          80          4          85.0        65.0   \n",
       "278  peugeot 504   peugeot          76          4         120.0        88.0   \n",
       "237    mazda 626     mazda          81          4         120.0        74.0   \n",
       "\n",
       "     weight  acceleration  origin   mpg  \n",
       "114  2110.0          19.2     3.0  40.8  \n",
       "278  3270.0          21.9     2.0  19.0  \n",
       "237  2635.0          18.3     3.0  31.6  "
      ]
     },
     "execution_count": 72,
     "metadata": {},
     "output_type": "execute_result"
    }
   ],
   "source": [
    "df_data = pd.read_parquet(path_interim_data+\"df_data_step_1_output.pqt\")\n",
    "\n",
    "print(f\"Dimensões do dataset: {df_data.shape}\")\n",
    "\n",
    "df_data.sample(3, random_state=42)"
   ]
  },
  {
   "cell_type": "code",
   "execution_count": 73,
   "metadata": {
    "ExecuteTime": {
     "end_time": "2020-12-07T01:28:36.511536Z",
     "start_time": "2020-12-07T01:28:36.496533Z"
    }
   },
   "outputs": [
    {
     "name": "stdout",
     "output_type": "stream",
     "text": [
      "Dimensão do conjunto de treino: (357, 9)\n",
      "Dimensão do conjunto de validação: (40, 9)\n"
     ]
    }
   ],
   "source": [
    "X = df_data.drop(['mpg'], axis=1)\n",
    "y = df_data['mpg']\n",
    "\n",
    "X_train, X_test, y_train, y_test = train_test_split(X, y, test_size=0.1, random_state=42)\n",
    "\n",
    "print(f\"\"\"Dimensão do conjunto de treino: {X_train.shape}\n",
    "Dimensão do conjunto de validação: {X_test.shape}\"\"\")"
   ]
  },
  {
   "cell_type": "markdown",
   "metadata": {},
   "source": [
    "## Dados categóricos\n",
    "\n",
    "Existem apenas dois atributos categóricos:\n",
    "- *car name*\n",
    "- *car brand*\n",
    "\n",
    "Não faz sentido usar o nome do carro (*car name*) como preditor do desempenho e, por isso, esse atributo será removido."
   ]
  },
  {
   "cell_type": "code",
   "execution_count": 74,
   "metadata": {
    "ExecuteTime": {
     "end_time": "2020-12-07T01:28:37.031907Z",
     "start_time": "2020-12-07T01:28:36.513536Z"
    }
   },
   "outputs": [
    {
     "data": {
      "image/png": "[encoded data removed]",
      "text/plain": [
       "<Figure size 720x504 with 1 Axes>"
      ]
     },
     "metadata": {
      "needs_background": "light"
     },
     "output_type": "display_data"
    }
   ],
   "source": [
    "df_data_categorical = df_data['car brand']\n",
    "\n",
    "car_dist = (df_data.groupby(['car brand']).agg({'car name':'count'}).rename(columns={'car name':'qty_cars'}).\n",
    "            reset_index().sort_values(by='qty_cars', ascending=False))\n",
    "\n",
    "plt.figure(figsize=(10,7))\n",
    "bx = sns.barplot(y='car brand', x='qty_cars', data=car_dist)\n",
    "\n",
    "for i, v in enumerate(car_dist['qty_cars']):\n",
    "    bx.text(v + 0.3, i + .25, str(v))"
   ]
  },
  {
   "cell_type": "markdown",
   "metadata": {},
   "source": [
    "Para tratar esse atributo e usá-lo, temos três possibilidades:\n",
    "\n",
    "1. One hot encoding *(como o atributo tem uma cardinalidade alta e pode introduzir mais variância ao modelo)*\n",
    "1. **Rare label encoding** *(posso perder informação de uma marca em relação ao desempenho pois as classes menos frequentes se juntarão numa única classe)*\n",
    "1. **Count frequency categorical encoder** *(vou apostar nessa abordagem em conjunto com o **Rare label encoding**)*"
   ]
  },
  {
   "cell_type": "code",
   "execution_count": 75,
   "metadata": {
    "ExecuteTime": {
     "end_time": "2020-12-07T01:28:37.063293Z",
     "start_time": "2020-12-07T01:28:37.033395Z"
    }
   },
   "outputs": [
    {
     "name": "stdout",
     "output_type": "stream",
     "text": [
      "Dimenões antes das tranformações:\n",
      "Treino: (357, 9)\n",
      "Validação: (40, 9)\n",
      "---------------------------------\n",
      "Dimenões APÓS tranformações:\n",
      "Treino: (357, 19)\n",
      "Validação: (40, 19)\n"
     ]
    }
   ],
   "source": [
    "pipe = Pipeline([('RareLabel', ce.RareLabelCategoricalEncoder(tol=0.05, n_categories=4, variables=['car brand'], replace_with='Rare'))\n",
    "                 , ('CountFrequency', ce.CountFrequencyCategoricalEncoder(encoding_method='frequency', variables=['car brand']))])\n",
    "\n",
    "X_train_encoded = pipe.fit_transform(X_train)\n",
    "X_test_encoded = pipe.transform(X_test)\n",
    "\n",
    "X_train_encoded.drop(['displacement', \"horsepower\", \"weight\", \"acceleration\"], axis=1, inplace=True)\n",
    "X_test_encoded.drop(['displacement', \"horsepower\", \"weight\", \"acceleration\"], axis=1, inplace=True)\n",
    "\n",
    "X_poly = PolynomialFeatures(degree=2, include_bias=False)\n",
    "X_train_poly = pd.DataFrame(X_poly.fit_transform(X_train[['displacement', \"horsepower\", \"weight\", \"acceleration\"]]),\n",
    "                            columns=X_poly.get_feature_names(['displacement', \"horsepower\", \"weight\", \"acceleration\"]),\n",
    "                            index=X_train.index)\n",
    "X_train_encoded = pd.concat([X_train_encoded, X_train_poly], axis=1)\n",
    "\n",
    "X_poly = PolynomialFeatures(degree=2, include_bias=False)\n",
    "X_test_poly = pd.DataFrame(X_poly.fit_transform(X_test[['displacement', \"horsepower\", \"weight\", \"acceleration\"]]),\n",
    "                           columns=X_poly.get_feature_names(['displacement', \"horsepower\", \"weight\", \"acceleration\"]),\n",
    "                           index=X_test.index)\n",
    "X_test_encoded = pd.concat([X_test_encoded, X_test_poly], axis=1)\n",
    "\n",
    "\n",
    "print(f\"\"\"Dimenões antes das tranformações:\n",
    "Treino: {X_train.shape}\n",
    "Validação: {X_test.shape}\n",
    "---------------------------------\n",
    "Dimenões APÓS tranformações:\n",
    "Treino: {X_train_encoded.shape}\n",
    "Validação: {X_test_encoded.shape}\"\"\")"
   ]
  },
  {
   "cell_type": "markdown",
   "metadata": {},
   "source": [
    "## Extração para a próxima etapa"
   ]
  },
  {
   "cell_type": "code",
   "execution_count": 76,
   "metadata": {
    "ExecuteTime": {
     "end_time": "2020-12-07T01:28:37.125774Z",
     "start_time": "2020-12-07T01:28:37.064292Z"
    }
   },
   "outputs": [],
   "source": [
    "X_train_encoded.to_parquet(path_interim_data+\"X_train_encoded_step_2.pqt\")\n",
    "X_test_encoded.to_parquet(path_interim_data+\"X_test_encoded_2_output.pqt\")"
   ]
  },
  {
   "cell_type": "code",
   "execution_count": 77,
   "metadata": {
    "ExecuteTime": {
     "end_time": "2020-12-07T01:28:37.141125Z",
     "start_time": "2020-12-07T01:28:37.126771Z"
    }
   },
   "outputs": [],
   "source": [
    "# ls_continuous_features = df_data.select_dtypes(include=[float]).columns\n",
    "# ls_continuous_features\n",
    "\n",
    "# df_data_step_2_output = df_data.copy()\n",
    "# df_data_step_2_output = df_data_step_2_output[ls_continuous_features]\n",
    "\n",
    "# df_data_step_2_output.to_parquet(path_interim_data+\"df_data_step_2_output.pqt\")"
   ]
  }
 ],
 "metadata": {
  "hide_input": false,
  "kernelspec": {
   "display_name": "Python 3",
   "language": "python",
   "name": "python3"
  },
  "language_info": {
   "codemirror_mode": {
    "name": "ipython",
    "version": 3
   },
   "file_extension": ".py",
   "mimetype": "text/x-python",
   "name": "python",
   "nbconvert_exporter": "python",
   "pygments_lexer": "ipython3",
   "version": "3.8.5"
  },
  "toc": {
   "base_numbering": 1,
   "nav_menu": {},
   "number_sections": true,
   "sideBar": true,
   "skip_h1_title": false,
   "title_cell": "Table of Contents",
   "title_sidebar": "Contents",
   "toc_cell": false,
   "toc_position": {},
   "toc_section_display": true,
   "toc_window_display": false
  }
 },
 "nbformat": 4,
 "nbformat_minor": 4
}
